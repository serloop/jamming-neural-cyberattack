{
 "cells": [
  {
   "cell_type": "code",
   "execution_count": null,
   "metadata": {},
   "outputs": [],
   "source": [
    "import csv\n",
    "import random\n",
    "import os, sys\n",
    "import numpy as np\n",
    "import seaborn as sns\n",
    "import matplotlib.pyplot as plt\n",
    "import matplotlib.ticker as ticker\n",
    "import pandas as pd\n",
    "from pandas.plotting import scatter_matrix"
   ]
  },
  {
   "cell_type": "code",
   "execution_count": null,
   "metadata": {},
   "outputs": [],
   "source": [
    "#mode = \"all_pos\"\n",
    "#attack = \"FLO\"\n",
    "\n",
    "#mode = \"4_pos\"\n",
    "mode = \"JAM_always_attack\"\n",
    "attack = \"JAM\""
   ]
  },
  {
   "cell_type": "markdown",
   "metadata": {},
   "source": [
    "### Load and process BRIAN data"
   ]
  },
  {
   "cell_type": "code",
   "execution_count": null,
   "metadata": {},
   "outputs": [],
   "source": [
    "# Stats files\n",
    "if mode == \"all_pos\":\n",
    "    stats_dir_FLO = \"/data/Brian/csv_stats/FLO_all_positions/\"\n",
    "elif mode == \"4_pos\":\n",
    "    stats_dir_FLO = \"/data/Brian/csv_stats/FLO_4_positions/\"\n",
    "elif mode == \"JAM_always_attack\":\n",
    "    stats_dir_JAM = \"/data/Brian/csv_stats/JAM_27_positions_1-20n_10exec/\"\n",
    "\n",
    "# Raster aggregated (\"cloud of dots\") for each position\n",
    "if attack == \"FLO\":\n",
    "    stats_dir = stats_dir_FLO\n",
    "    csv_rasters_aggr = stats_dir+\"aggr_FLO.csv\"\n",
    "elif attack == \"JAM\":\n",
    "    stats_dir = stats_dir_JAM\n",
    "    csv_rasters_aggr = stats_dir+\"27_positions.csv\""
   ]
  },
  {
   "cell_type": "code",
   "execution_count": null,
   "metadata": {},
   "outputs": [],
   "source": [
    "stats_dir"
   ]
  },
  {
   "cell_type": "code",
   "execution_count": null,
   "metadata": {},
   "outputs": [],
   "source": [
    "'''\n",
    "df_aggr = pd.read_csv(csv_rasters_aggr, delimiter=\";\")\n",
    "df_aggr[\"attack_n_neurons\"] = df_aggr[\"attack\"].astype(\"str\") + \" \" + df_aggr[\"n_neurons\"].astype(\"str\")\n",
    "list_n_neurons = df_aggr[\"n_neurons\"].unique().tolist()\n",
    "list_positions = df_aggr[\"position\"].unique().tolist()\n",
    "'''"
   ]
  },
  {
   "cell_type": "code",
   "execution_count": null,
   "metadata": {},
   "outputs": [],
   "source": []
  },
  {
   "cell_type": "markdown",
   "metadata": {},
   "source": [
    "#### Total number of spikes per position"
   ]
  },
  {
   "cell_type": "code",
   "execution_count": null,
   "metadata": {},
   "outputs": [],
   "source": [
    "#df_total_spikes = df_aggr.copy()\n",
    "'''\n",
    "if mode == \"all_pos\":\n",
    "    df_total_spikes = df_aggr[df_aggr.n_neurons.isin([0,5,35,55,75,105])].copy()\n",
    "elif mode == \"4_pos\":\n",
    "    df_total_spikes = df_aggr.copy()\n",
    "else:\n",
    "    df_total_spikes = df_aggr.copy()\n",
    "'''"
   ]
  },
  {
   "cell_type": "code",
   "execution_count": null,
   "metadata": {},
   "outputs": [],
   "source": [
    "'''\n",
    "if mode == \"all_pos\":\n",
    "    df_total_spikes = pd.DataFrame(df_total_spikes.groupby([\"attack_n_neurons\", \"position_attack\", \"position\", \"n_exec\"])[\"number_spikes\"].sum())\n",
    "elif mode == \"4_pos\":\n",
    "    df_total_spikes = pd.DataFrame(df_total_spikes.groupby([\"attack_n_neurons\", \"position_attack\", \"position\", \"v_increment\", \"n_exec\"])[\"number_spikes\"].sum())\n",
    "else:\n",
    "    df_total_spikes = pd.DataFrame(df_total_spikes.groupby([\"attack_n_neurons\", \"position_attack\", \"position\", \"n_exec\"])[\"number_spikes\"].sum())\n",
    "'''"
   ]
  },
  {
   "cell_type": "code",
   "execution_count": null,
   "metadata": {},
   "outputs": [],
   "source": [
    "'''\n",
    "df_total_spikes.reset_index(inplace=True)\n",
    "'''"
   ]
  },
  {
   "cell_type": "code",
   "execution_count": null,
   "metadata": {},
   "outputs": [],
   "source": [
    "# Start in position 1, not 0\n",
    "'''\n",
    "if mode == \"4_pos\":\n",
    "    df_total_spikes.position = df_total_spikes.position+1\n",
    "    df_total_spikes.position_attack = df_total_spikes.position_attack+1\n",
    "'''"
   ]
  },
  {
   "cell_type": "code",
   "execution_count": null,
   "metadata": {},
   "outputs": [],
   "source": [
    "# Dump the resulting dataframe to CSV\n",
    "\n",
    "#df_total_spikes.to_csv(stats_dir+\"total_spikes.csv\", mode = \"a\", index = False, header=True, sep=\";\")"
   ]
  },
  {
   "cell_type": "code",
   "execution_count": null,
   "metadata": {},
   "outputs": [],
   "source": [
    "df_total_spikes = pd.read_csv(stats_dir+\"total_spikes.csv\", delimiter=\";\")"
   ]
  },
  {
   "cell_type": "code",
   "execution_count": null,
   "metadata": {},
   "outputs": [],
   "source": [
    "df_total_spikes"
   ]
  },
  {
   "cell_type": "markdown",
   "metadata": {},
   "source": [
    "#### Horizontal dispersion"
   ]
  },
  {
   "cell_type": "code",
   "execution_count": null,
   "metadata": {},
   "outputs": [],
   "source": [
    "#df_horizontal = df_aggr.copy()\n",
    "'''\n",
    "if mode == \"all_pos\":\n",
    "    df_horizontal = df_aggr[df_aggr.n_neurons.isin([0,5,35,55,75,105])].copy()\n",
    "elif mode == \"4_pos\":\n",
    "    df_horizontal = df_aggr.copy()\n",
    "else:\n",
    "    df_horizontal = df_aggr.copy()\n",
    "'''"
   ]
  },
  {
   "cell_type": "code",
   "execution_count": null,
   "metadata": {},
   "outputs": [],
   "source": [
    "'''\n",
    "if mode == \"all_pos\":\n",
    "    df_horizontal = pd.DataFrame(df_horizontal.groupby([\"attack_n_neurons\", \"position_attack\", \"position\", \"n_exec\"])[\"time_delta\"].count()/10000*100)\n",
    "elif mode == \"4_pos\":\n",
    "    df_horizontal = pd.DataFrame(df_horizontal.groupby([\"attack_n_neurons\", \"position_attack\", \"position\", \"v_increment\", \"n_exec\"])[\"time_delta\"].count()/10000*100)\n",
    "else:\n",
    "    df_horizontal = pd.DataFrame(df_horizontal.groupby([\"attack_n_neurons\", \"position_attack\", \"position\", \"n_exec\"])[\"time_delta\"].count()/10000*100)\n",
    "'''    "
   ]
  },
  {
   "cell_type": "code",
   "execution_count": null,
   "metadata": {},
   "outputs": [],
   "source": [
    "'''\n",
    "df_horizontal.reset_index(inplace=True)\n",
    "'''"
   ]
  },
  {
   "cell_type": "code",
   "execution_count": null,
   "metadata": {},
   "outputs": [],
   "source": [
    "# Start in position 1, not 0\n",
    "'''\n",
    "if mode == \"4_pos\":\n",
    "    df_horizontal.position = df_horizontal.position+1\n",
    "    df_horizontal.position_attack = df_horizontal.position_attack+1\n",
    "'''"
   ]
  },
  {
   "cell_type": "code",
   "execution_count": null,
   "metadata": {},
   "outputs": [],
   "source": [
    "# Dump the resulting dataframe to CSV\n",
    "\n",
    "#df_horizontal.to_csv(stats_dir+\"horizontal_dispersion.csv\", mode = \"a\", index = False, header=True, sep=\";\")"
   ]
  },
  {
   "cell_type": "code",
   "execution_count": null,
   "metadata": {},
   "outputs": [],
   "source": [
    "df_horizontal = pd.read_csv(stats_dir+\"horizontal_dispersion.csv\", delimiter=\";\")"
   ]
  },
  {
   "cell_type": "code",
   "execution_count": null,
   "metadata": {
    "scrolled": true
   },
   "outputs": [],
   "source": [
    "df_horizontal"
   ]
  },
  {
   "cell_type": "code",
   "execution_count": null,
   "metadata": {},
   "outputs": [],
   "source": [
    "# Merge both Brian dataframes and increment position values\n",
    "df_Brian = df_total_spikes.copy()\n",
    "df_Brian[\"dispersion\"] = df_horizontal[\"time_delta\"]\n",
    "\n",
    "if mode == \"all_pos\":\n",
    "    df_Brian[\"position\"] = df_Brian[\"position\"]+1\n",
    "    df_Brian[\"position_attack\"] = df_Brian[\"position_attack\"]+1\n",
    "    \n",
    "if mode == \"JAM_always_attack\":\n",
    "    df_Brian = df_Brian.drop(columns=['position_attack'])"
   ]
  },
  {
   "cell_type": "code",
   "execution_count": null,
   "metadata": {},
   "outputs": [],
   "source": [
    "df_Brian"
   ]
  },
  {
   "cell_type": "markdown",
   "metadata": {},
   "source": [
    "### Load and process CNN data"
   ]
  },
  {
   "cell_type": "code",
   "execution_count": null,
   "metadata": {},
   "outputs": [],
   "source": [
    "if mode == \"all_pos\":\n",
    "    dir_data = \"/data/CNN/output/FLO_all_positions\"\n",
    "    csv_filenames = [\"original.csv\", \"Flooding.csv\"]\n",
    "elif mode == \"4_pos\":\n",
    "    dir_data = \"/data/CNN/output/FLO_4_positions\"\n",
    "    csv_filenames = [\"original.csv\", \"Flooding.csv\"]\n",
    "elif mode == \"JAM_always_attack\":\n",
    "    dir_data = \"/data/CNN/output/JAM_always_attack/10exec_1-20n\"\n",
    "    csv_filenames = [\"original.csv\", \"Jamming.csv\"]"
   ]
  },
  {
   "cell_type": "code",
   "execution_count": null,
   "metadata": {},
   "outputs": [],
   "source": [
    "dir_data"
   ]
  },
  {
   "cell_type": "code",
   "execution_count": null,
   "metadata": {},
   "outputs": [],
   "source": [
    "df = pd.DataFrame()\n",
    "\n",
    "for filename in csv_filenames:\n",
    "    filepath = os.path.join(dir_data, filename)\n",
    "    \n",
    "    if filename in [\"original.csv\"] and attack != \"JAM\":\n",
    "        df = pd.concat([df, pd.read_csv(filepath, delimiter=\";\", usecols=[\"attack\", \"n_nodes\", \"X\", \"Y\", \"position\",\"solution\", \"stim_value\", \"n_steps\", \"n_exec\"])], sort=True)\n",
    "    \n",
    "    if filename in [\"original.csv\"] and attack == \"JAM\":\n",
    "        df = pd.concat([df, pd.read_csv(filepath, delimiter=\";\", usecols=[\"attack\", \"n_nodes\", \"positions_attacked\",\"solution\", \"stim_value\", \"n_steps\", \"n_exec\"])], sort=True)\n",
    "\n",
    "    if filename in [\"Flooding.csv\"]:\n",
    "        df = pd.concat([df, pd.read_csv(filepath, delimiter=\";\", usecols=[\"attack\", \"n_nodes\", \"X\", \"Y\", \"position\",\"solution\", \"stim_value\", \"n_steps\", \"n_exec\"])], sort=True)\n",
    "    \n",
    "    if filename in [\"Jamming.csv\"]:\n",
    "        df = pd.concat([df, pd.read_csv(filepath, delimiter=\";\", usecols=[\"attack\", \"n_nodes\", \"positions_attacked\",\"solution\", \"stim_value\", \"n_steps\", \"n_exec\"])], sort=True)\n",
    "    \n",
    "# Fill NaN cells with zero value\n",
    "#df = df.fillna(0)\n",
    "\n",
    "# Create column \"coordinate\" appending X and Y values\n",
    "if attack != \"JAM\":\n",
    "    df[\"coordinate\"] = df[\"X\"].map(str) + \",\"+ df[\"Y\"].map(str)\n",
    "\n",
    "# quickfix for old csvs where the bug with the number of steps was not corrected\n",
    "if mode == \"all_pos\":\n",
    "    df[\"n_steps\"] = df[\"n_steps\"]+df[\"position\"]-1\n",
    "\n",
    "df.solution = df.solution.replace(False, 0)\n",
    "df.solution = df.solution.replace(True, 1)"
   ]
  },
  {
   "cell_type": "code",
   "execution_count": null,
   "metadata": {},
   "outputs": [],
   "source": []
  },
  {
   "cell_type": "code",
   "execution_count": null,
   "metadata": {},
   "outputs": [],
   "source": [
    "if mode == \"4_pos\":\n",
    "    # fix results generated with increments of 5, instead of 10 (Brian)\n",
    "    selected_nodes = [0] # keep originalCNN rows\n",
    "\n",
    "    for nodes in range(5,110,10):\n",
    "        selected_nodes.append(nodes)\n",
    "\n",
    "    df = df[df.n_nodes.isin(selected_nodes)].copy()"
   ]
  },
  {
   "cell_type": "code",
   "execution_count": null,
   "metadata": {},
   "outputs": [],
   "source": [
    "if mode == \"all_pos\":\n",
    "    df_FLO_all_pos = df[(df.n_nodes.isin([0,5,35,55,75,105])) & (df.stim_value.isin([0, 0.6]))].copy()\n",
    "elif mode == \"4_pos\":\n",
    "    df_FLO_4_pos = df.copy()\n",
    "else:\n",
    "    #df_JAM_always = df[(df.n_nodes.isin([0,5,35,55,75,105]))].copy()\n",
    "    df_JAM_always = df.copy()"
   ]
  },
  {
   "cell_type": "markdown",
   "metadata": {},
   "source": [
    "#### Correlation between solution and n_steps"
   ]
  },
  {
   "cell_type": "code",
   "execution_count": null,
   "metadata": {},
   "outputs": [],
   "source": [
    "if mode == \"all_pos\":\n",
    "    correlation_solution_n_steps = df_FLO_all_pos.corr()[\"solution\"][\"n_steps\"].round(4)\n",
    "    print(\"Correlation between solution and n_steps: \", df_FLO_all_pos.corr()[\"solution\"][\"n_steps\"].round(4))\n",
    "elif mode == \"4_pos\":\n",
    "    correlation_solution_n_steps = df_FLO_4_pos.corr()[\"solution\"][\"n_steps\"].round(4)\n",
    "    print(\"Correlation between solution and n_steps: \", df_FLO_4_pos.corr()[\"solution\"][\"n_steps\"].round(4))\n",
    "else:\n",
    "    correlation_solution_n_steps = df_JAM_always.corr()[\"solution\"][\"n_steps\"].round(4)\n",
    "    print(\"Correlation between solution and n_steps: \", df_JAM_always.corr()[\"solution\"][\"n_steps\"].round(4))"
   ]
  },
  {
   "cell_type": "markdown",
   "metadata": {},
   "source": [
    "### Process the Brian and CNN dataframes and unify them"
   ]
  },
  {
   "cell_type": "markdown",
   "metadata": {},
   "source": [
    "#### Process CNN data"
   ]
  },
  {
   "cell_type": "code",
   "execution_count": null,
   "metadata": {
    "scrolled": true
   },
   "outputs": [],
   "source": [
    "if mode == \"all_pos\":\n",
    "    df_FLO_all_pos = df_FLO_all_pos.replace(\"original_CNN\", \"initial_state\")\n",
    "    df_FLO_all_pos = df_FLO_all_pos.drop(columns=['X', 'Y', 'solution', 'stim_value', \"coordinate\"])\n",
    "    df_FLO_all_pos[\"attack_n_neurons\"] = df_FLO_all_pos[\"attack\"].astype(\"str\") + \" \" + df_FLO_all_pos[\"n_nodes\"].astype(\"str\")\n",
    "    df_FLO_all_pos = df_FLO_all_pos.drop(columns=['n_nodes', 'attack'])\n",
    "    df_FLO_all_pos = df_FLO_all_pos.rename(columns={\"position\": \"position_attack\"})\n",
    "    df_FLO_all_pos = df_FLO_all_pos.groupby([\"attack_n_neurons\", \"position_attack\"]).agg({'n_steps':'mean'}).round(4)\n",
    "    df_FLO_all_pos.reset_index(inplace=True, drop=True)\n",
    "    \n",
    "elif mode == \"4_pos\":\n",
    "    df_FLO_4_pos = df_FLO_4_pos.replace(\"original_CNN\", \"initial_state\")\n",
    "    df_FLO_4_pos = df_FLO_4_pos.drop(columns=['X', 'Y', 'solution', \"coordinate\"])\n",
    "    df_FLO_4_pos[\"attack_n_neurons\"] = df_FLO_4_pos[\"attack\"].astype(\"str\") + \" \" + df_FLO_4_pos[\"n_nodes\"].astype(\"str\")\n",
    "    df_FLO_4_pos = df_FLO_4_pos.drop(columns=['n_nodes', 'attack'])\n",
    "    df_FLO_4_pos = df_FLO_4_pos.rename(columns={\"position\": \"position_attack\"})\n",
    "    df_FLO_4_pos = df_FLO_4_pos.groupby([\"attack_n_neurons\", \"position_attack\", \"stim_value\"]).agg({'n_steps':'mean'}).round(4)\n",
    "    df_FLO_4_pos = df_FLO_4_pos.sort_values(by=['attack_n_neurons', 'position_attack', 'stim_value'])\n",
    "    df_FLO_4_pos.reset_index(inplace=True, drop=True)\n",
    "\n",
    "else:\n",
    "    df_JAM_always = df_JAM_always.replace(\"original_CNN\", \"initial_state\")\n",
    "    df_JAM_always = df_JAM_always.drop(columns=['solution', 'stim_value'])\n",
    "    df_JAM_always[\"attack_n_neurons\"] = df_JAM_always[\"attack\"].astype(\"str\") + \" \" + df_JAM_always[\"n_nodes\"].astype(\"str\")\n",
    "    df_JAM_always = df_JAM_always.drop(columns=['n_nodes', 'attack', 'positions_attacked'])\n",
    "    df_JAM_always = df_JAM_always.groupby([\"attack_n_neurons\"]).agg({'n_steps':'mean'}).round(4)\n",
    "    df_JAM_always.reset_index(inplace=True)"
   ]
  },
  {
   "cell_type": "code",
   "execution_count": null,
   "metadata": {},
   "outputs": [],
   "source": []
  },
  {
   "cell_type": "markdown",
   "metadata": {},
   "source": [
    "#### Merged df between Brian and CNN data"
   ]
  },
  {
   "cell_type": "code",
   "execution_count": null,
   "metadata": {},
   "outputs": [],
   "source": [
    "if mode == \"all_pos\":\n",
    "    df_merge = df_Brian.copy()\n",
    "    df_merge = df_merge.groupby([\"attack_n_neurons\", \"position_attack\"]).agg({'number_spikes':'mean', 'dispersion':'mean'}).round(4)\n",
    "    df_merge.reset_index(inplace=True)\n",
    "    df_merge.sort_values(by=['attack_n_neurons','position_attack'])\n",
    "    df_merge[\"n_steps\"] = df_FLO_all_pos[\"n_steps\"]\n",
    "    df_merge[\"attack\"] = df_merge[\"attack_n_neurons\"].str.split(\" \", n = 1, expand = True)[0]\n",
    "    df_merge[\"n_neurons\"] = df_merge[\"attack_n_neurons\"].str.split(\" \", n = 1, expand = True)[1].astype('int64')\n",
    "    df_merge = df_merge.drop(columns=['attack_n_neurons'])\n",
    "elif mode == \"4_pos\":\n",
    "    df_merge = df_Brian.copy()\n",
    "    df_merge = df_merge.groupby([\"attack_n_neurons\", \"position_attack\",\"v_increment\"]).agg({'number_spikes':'mean', 'dispersion':'mean'}).round(4)\n",
    "    df_merge.reset_index(inplace=True)\n",
    "    df_merge.sort_values(by=['attack_n_neurons','position_attack','v_increment'])\n",
    "    df_merge[\"n_steps\"] = df_FLO_4_pos[\"n_steps\"]\n",
    "    df_merge[\"attack\"] = df_merge[\"attack_n_neurons\"].str.split(\" \", n = 1, expand = True)[0]\n",
    "    df_merge[\"n_neurons\"] = df_merge[\"attack_n_neurons\"].str.split(\" \", n = 1, expand = True)[1].astype('int64')\n",
    "    df_merge = df_merge.drop(columns=['attack_n_neurons'])\n",
    "else:\n",
    "    df_merge = df_Brian.copy()\n",
    "    df_merge = df_merge.groupby([\"attack_n_neurons\"]).agg({'number_spikes':'mean', 'dispersion':'mean'}).round(4)\n",
    "    df_merge.reset_index(inplace=True)\n",
    "    df_merge[\"n_steps\"] = df_JAM_always[\"n_steps\"]\n",
    "    df_merge[\"attack\"] = df_merge[\"attack_n_neurons\"].str.split(\" \", n = 1, expand = True)[0]\n",
    "    df_merge[\"n_neurons\"] = df_merge[\"attack_n_neurons\"].str.split(\" \", n = 1, expand = True)[1].astype('int64')\n",
    "    df_merge = df_merge.drop(columns=['attack_n_neurons'])"
   ]
  },
  {
   "cell_type": "code",
   "execution_count": null,
   "metadata": {},
   "outputs": [],
   "source": [
    "df_merge"
   ]
  },
  {
   "cell_type": "code",
   "execution_count": null,
   "metadata": {},
   "outputs": [],
   "source": [
    "df_merge.sort_values(by=['n_neurons'])"
   ]
  },
  {
   "cell_type": "code",
   "execution_count": null,
   "metadata": {},
   "outputs": [],
   "source": [
    "df_merge.corr().round(2)"
   ]
  },
  {
   "cell_type": "code",
   "execution_count": null,
   "metadata": {},
   "outputs": [],
   "source": [
    "df_merge.corr(method=\"spearman\").round(2)"
   ]
  },
  {
   "cell_type": "code",
   "execution_count": null,
   "metadata": {},
   "outputs": [],
   "source": [
    "sns.pairplot(df_merge)"
   ]
  },
  {
   "cell_type": "code",
   "execution_count": null,
   "metadata": {},
   "outputs": [],
   "source": []
  },
  {
   "cell_type": "code",
   "execution_count": null,
   "metadata": {},
   "outputs": [],
   "source": []
  },
  {
   "cell_type": "code",
   "execution_count": null,
   "metadata": {},
   "outputs": [],
   "source": []
  },
  {
   "cell_type": "code",
   "execution_count": null,
   "metadata": {},
   "outputs": [],
   "source": []
  },
  {
   "cell_type": "markdown",
   "metadata": {},
   "source": [
    "#### Correlation number_spikes and dispersion"
   ]
  },
  {
   "cell_type": "code",
   "execution_count": null,
   "metadata": {},
   "outputs": [],
   "source": [
    "print(\"Correlation between spikes and dispersion: \", df_merge.corr()[\"number_spikes\"][\"dispersion\"].round(4))"
   ]
  },
  {
   "cell_type": "markdown",
   "metadata": {},
   "source": [
    "## Correlation analysis"
   ]
  },
  {
   "cell_type": "markdown",
   "metadata": {},
   "source": [
    "### Correlation with fixed n_neurons"
   ]
  },
  {
   "cell_type": "code",
   "execution_count": null,
   "metadata": {},
   "outputs": [],
   "source": [
    "list_n_neurons = df_merge.n_neurons.unique().tolist()[:-1]"
   ]
  },
  {
   "cell_type": "code",
   "execution_count": null,
   "metadata": {},
   "outputs": [],
   "source": [
    "df_corr_fixed_neurons = pd.DataFrame(columns=[\"attack\", \"n_neurons\", \"corr_steps_spikes\", \"corr_steps_dispersion\", \"corr_spikes_dispersion\"])\n",
    "\n",
    "for n_neurons in list_n_neurons:\n",
    "    temp_corr = df_merge[(df_merge.n_neurons == n_neurons)].corr()\n",
    "    \n",
    "    attack = df_merge[(df_merge.n_neurons == n_neurons)].attack.unique()[0]\n",
    "    corr_steps_spikes = temp_corr[\"n_steps\"][\"number_spikes\"]\n",
    "    corr_steps_dispersion = temp_corr[\"n_steps\"][\"dispersion\"]\n",
    "    corr_spikes_dispersion = temp_corr[\"number_spikes\"][\"dispersion\"]\n",
    "\n",
    "    df_corr_fixed_neurons = df_corr_fixed_neurons.append({\n",
    "                            \"attack\": attack,\n",
    "                            \"n_neurons\": n_neurons,  \n",
    "                            \"corr_steps_spikes\": corr_steps_spikes, \n",
    "                            \"corr_steps_dispersion\": corr_steps_dispersion, \n",
    "                            \"corr_spikes_dispersion\": corr_spikes_dispersion\n",
    "                           }, ignore_index=True)\n",
    "    \n",
    "    \n",
    "df_corr_fixed_neurons = df_corr_fixed_neurons.round(4)"
   ]
  },
  {
   "cell_type": "code",
   "execution_count": null,
   "metadata": {},
   "outputs": [],
   "source": [
    "df_merge"
   ]
  },
  {
   "cell_type": "code",
   "execution_count": null,
   "metadata": {},
   "outputs": [],
   "source": [
    "df_Brian"
   ]
  },
  {
   "cell_type": "code",
   "execution_count": null,
   "metadata": {},
   "outputs": [],
   "source": [
    "df_corr_fixed_neurons.sort_values(by=['n_neurons'])"
   ]
  },
  {
   "cell_type": "markdown",
   "metadata": {},
   "source": [
    "#### Correlation n_steps and number_spikes"
   ]
  },
  {
   "cell_type": "code",
   "execution_count": null,
   "metadata": {},
   "outputs": [],
   "source": [
    "plots_prefix = \"correlation/\"+mode+\"/\"\n",
    "\n",
    "if not os.path.exists(plots_prefix):\n",
    "    os.makedirs(plots_prefix)"
   ]
  },
  {
   "cell_type": "code",
   "execution_count": null,
   "metadata": {},
   "outputs": [],
   "source": [
    "###################### Correlation n_steps and number_spikes ######################\n",
    "attack = \"FLO\"\n",
    "\n",
    "label_size = 45\n",
    "ticks_size = 35\n",
    "legend_size = 35\n",
    "line_size = 15\n",
    "\n",
    "fig, ax = plt.subplots(figsize=(40,20))\n",
    "\n",
    "if attack in [\"FLO\", \"JAM\"]:\n",
    "    sns.lineplot(x=\"n_neurons\", y=\"corr_steps_spikes\", data=df_corr_fixed_neurons, linewidth=line_size, ax=ax) # ci=None \n",
    "\n",
    "    ax.set_xlabel(\"Number of neurons\", fontsize=label_size, fontweight=\"bold\")\n",
    "    ax.set_ylabel(\"Correlation steps-spikes\", fontsize=label_size, fontweight=\"bold\")\n",
    "    ax.tick_params(labelsize=ticks_size)\n",
    "\n",
    "    ax.grid(b=True, which='major', color='#d8dcd6', linewidth=1.0)\n",
    "    ax.grid(b=True, which='minor', color='#d8dcd6', linewidth=0.5)\n",
    "    \n",
    "    ax.set_xticks(list_n_neurons)\n",
    "\n",
    "    leg = ax.legend(loc='best', fancybox=True, ncol=1, frameon='True',fontsize=legend_size)\n",
    "\n",
    "fig.savefig(plots_prefix+\"fixed_neurons-corr_steps_spikes.pdf\")\n",
    "plt.close()"
   ]
  },
  {
   "cell_type": "markdown",
   "metadata": {},
   "source": [
    "#### Correlation n_steps and dispersion"
   ]
  },
  {
   "cell_type": "code",
   "execution_count": null,
   "metadata": {},
   "outputs": [],
   "source": [
    "###################### Correlation n_steps and number_spikes ######################\n",
    "attack = \"FLO\"\n",
    "\n",
    "label_size = 45\n",
    "ticks_size = 35\n",
    "legend_size = 35\n",
    "line_size = 15\n",
    "\n",
    "fig, ax = plt.subplots(figsize=(40,20))\n",
    "\n",
    "if attack in [\"FLO\", \"JAM\"]:\n",
    "    sns.lineplot(x=\"n_neurons\", y=\"corr_steps_dispersion\", data=df_corr_fixed_neurons, linewidth=line_size, ax=ax) # ci=None \n",
    "\n",
    "    ax.set_xlabel(\"Number of neurons\", fontsize=label_size, fontweight=\"bold\")\n",
    "    ax.set_ylabel(\"Correlation steps-dispersion\", fontsize=label_size, fontweight=\"bold\")\n",
    "    ax.tick_params(labelsize=ticks_size)\n",
    "\n",
    "    ax.grid(b=True, which='major', color='#d8dcd6', linewidth=1.0)\n",
    "    ax.grid(b=True, which='minor', color='#d8dcd6', linewidth=0.5)\n",
    "    \n",
    "    ax.set_xticks(list_n_neurons)\n",
    "\n",
    "    leg = ax.legend(loc='best', fancybox=True, ncol=1, frameon='True',fontsize=legend_size)\n",
    "\n",
    "fig.savefig(plots_prefix+\"fixed_neurons-corr_steps_dispersion.pdf\")\n",
    "plt.close()"
   ]
  },
  {
   "cell_type": "markdown",
   "metadata": {},
   "source": [
    "#### Correlation number_spikes and dispersion"
   ]
  },
  {
   "cell_type": "code",
   "execution_count": null,
   "metadata": {},
   "outputs": [],
   "source": [
    "###################### Correlation n_steps and number_spikes ######################\n",
    "attack = \"FLO\"\n",
    "\n",
    "label_size = 45\n",
    "ticks_size = 35\n",
    "legend_size = 35\n",
    "line_size = 15\n",
    "\n",
    "fig, ax = plt.subplots(figsize=(40,20))\n",
    "\n",
    "if attack in [\"FLO\", \"JAM\"]:\n",
    "    sns.lineplot(x=\"n_neurons\", y=\"corr_spikes_dispersion\", data=df_corr_fixed_neurons, linewidth=line_size, ax=ax) # ci=None \n",
    "\n",
    "    ax.set_xlabel(\"Number of neurons\", fontsize=label_size, fontweight=\"bold\")\n",
    "    ax.set_ylabel(\"Correlation spikes-dispersion\", fontsize=label_size, fontweight=\"bold\")\n",
    "    ax.tick_params(labelsize=ticks_size)\n",
    "\n",
    "    ax.grid(b=True, which='major', color='#d8dcd6', linewidth=1.0)\n",
    "    ax.grid(b=True, which='minor', color='#d8dcd6', linewidth=0.5)\n",
    "    \n",
    "    ax.set_xticks(list_n_neurons)\n",
    "\n",
    "    leg = ax.legend(loc='best', fancybox=True, ncol=1, frameon='True',fontsize=legend_size)\n",
    "\n",
    "fig.savefig(plots_prefix+\"fixed_neurons-corr_spikes_dispersion.pdf\")\n",
    "plt.close()"
   ]
  },
  {
   "cell_type": "markdown",
   "metadata": {},
   "source": [
    "### Correlation with fixed positions"
   ]
  },
  {
   "cell_type": "code",
   "execution_count": null,
   "metadata": {},
   "outputs": [],
   "source": [
    "plots_prefix = \"correlation/\"+mode+\"/\"\n",
    "\n",
    "if not os.path.exists(plots_prefix):\n",
    "    os.makedirs(plots_prefix)"
   ]
  },
  {
   "cell_type": "code",
   "execution_count": null,
   "metadata": {},
   "outputs": [],
   "source": [
    "list_positions = df_merge.position_attack.unique().tolist()"
   ]
  },
  {
   "cell_type": "code",
   "execution_count": null,
   "metadata": {},
   "outputs": [],
   "source": [
    "df_corr_fixed_positions = pd.DataFrame(columns=[\"attack\", \"position_attack\", \"corr_steps_spikes\", \"corr_steps_dispersion\", \"corr_spikes_dispersion\"])\n",
    "\n",
    "for position in list_positions:\n",
    "    temp_corr = df_merge[(df_merge.position_attack == position)].corr()\n",
    "    \n",
    "    attack = df_merge[(df_merge.position_attack == position)].attack.unique()[0]\n",
    "    corr_steps_spikes = temp_corr[\"n_steps\"][\"number_spikes\"]\n",
    "    corr_steps_dispersion = temp_corr[\"n_steps\"][\"dispersion\"]\n",
    "    corr_spikes_dispersion = temp_corr[\"number_spikes\"][\"dispersion\"]\n",
    "\n",
    "    df_corr_fixed_positions = df_corr_fixed_positions.append({\n",
    "                            \"attack\": attack,\n",
    "                            \"position_attack\": position,  \n",
    "                            \"corr_steps_spikes\": corr_steps_spikes, \n",
    "                            \"corr_steps_dispersion\": corr_steps_dispersion, \n",
    "                            \"corr_spikes_dispersion\": corr_spikes_dispersion\n",
    "                           }, ignore_index=True)\n",
    "    \n",
    "    \n",
    "df_corr_fixed_positions = df_corr_fixed_positions.round(4)"
   ]
  },
  {
   "cell_type": "code",
   "execution_count": null,
   "metadata": {
    "scrolled": true
   },
   "outputs": [],
   "source": [
    "df_corr_fixed_positions"
   ]
  },
  {
   "cell_type": "markdown",
   "metadata": {},
   "source": [
    "#### Correlation n_steps and number_spikes"
   ]
  },
  {
   "cell_type": "code",
   "execution_count": null,
   "metadata": {},
   "outputs": [],
   "source": [
    "###################### Correlation n_steps and number_spikes ######################\n",
    "attack = \"FLO\"\n",
    "\n",
    "label_size = 45\n",
    "ticks_size = 35\n",
    "legend_size = 35\n",
    "line_size = 15\n",
    "\n",
    "fig, ax = plt.subplots(figsize=(40,20))\n",
    "\n",
    "if attack in [\"FLO\", \"JAM\"]:\n",
    "    sns.lineplot(x=\"position_attack\", y=\"corr_steps_spikes\", data=df_corr_fixed_positions, linewidth=line_size, ax=ax) # ci=None \n",
    "\n",
    "    ax.set_xlabel(\"Position of attack\", fontsize=label_size, fontweight=\"bold\")\n",
    "    ax.set_ylabel(\"Correlation steps-spikes\", fontsize=label_size, fontweight=\"bold\")\n",
    "    ax.tick_params(labelsize=ticks_size)\n",
    "\n",
    "    ax.grid(b=True, which='major', color='#d8dcd6', linewidth=1.0)\n",
    "    ax.grid(b=True, which='minor', color='#d8dcd6', linewidth=0.5)\n",
    "    \n",
    "    ax.set_xticks(list_positions)\n",
    "\n",
    "    leg = ax.legend(loc='best', fancybox=True, ncol=1, frameon='True',fontsize=legend_size)\n",
    "\n",
    "fig.savefig(plots_prefix+\"fixed_positions-corr_steps_spikes.pdf\")\n",
    "plt.close()"
   ]
  },
  {
   "cell_type": "markdown",
   "metadata": {},
   "source": [
    "#### Correlation n_steps and dispersion"
   ]
  },
  {
   "cell_type": "code",
   "execution_count": null,
   "metadata": {},
   "outputs": [],
   "source": [
    "###################### Correlation n_steps and number_spikes ######################\n",
    "attack = \"FLO\"\n",
    "\n",
    "label_size = 45\n",
    "ticks_size = 35\n",
    "legend_size = 35\n",
    "line_size = 15\n",
    "\n",
    "fig, ax = plt.subplots(figsize=(40,20))\n",
    "\n",
    "if attack in [\"FLO\", \"JAM\"]:\n",
    "    sns.lineplot(x=\"position_attack\", y=\"corr_steps_dispersion\", data=df_corr_fixed_positions, linewidth=line_size, ax=ax) # ci=None \n",
    "\n",
    "    ax.set_xlabel(\"Position of attack\", fontsize=label_size, fontweight=\"bold\")\n",
    "    ax.set_ylabel(\"Correlation steps-dispersion\", fontsize=label_size, fontweight=\"bold\")\n",
    "    ax.tick_params(labelsize=ticks_size)\n",
    "\n",
    "    ax.grid(b=True, which='major', color='#d8dcd6', linewidth=1.0)\n",
    "    ax.grid(b=True, which='minor', color='#d8dcd6', linewidth=0.5)\n",
    "    \n",
    "    ax.set_xticks(list_positions)\n",
    "\n",
    "    leg = ax.legend(loc='best', fancybox=True, ncol=1, frameon='True',fontsize=legend_size)\n",
    "\n",
    "fig.savefig(plots_prefix+\"fixed_positions-corr_steps_dispersion.pdf\")\n",
    "plt.close()"
   ]
  },
  {
   "cell_type": "markdown",
   "metadata": {},
   "source": [
    "#### Correlation number_spikes and dispersion"
   ]
  },
  {
   "cell_type": "code",
   "execution_count": null,
   "metadata": {},
   "outputs": [],
   "source": [
    "###################### Correlation n_steps and number_spikes ######################\n",
    "attack = \"FLO\"\n",
    "\n",
    "label_size = 45\n",
    "ticks_size = 35\n",
    "legend_size = 35\n",
    "line_size = 15\n",
    "\n",
    "fig, ax = plt.subplots(figsize=(40,20))\n",
    "\n",
    "if attack in [\"FLO\", \"JAM\"]:\n",
    "    sns.lineplot(x=\"position_attack\", y=\"corr_spikes_dispersion\", data=df_corr_fixed_positions, linewidth=line_size, ax=ax) # ci=None \n",
    "\n",
    "    ax.set_xlabel(\"Position of attack\", fontsize=label_size, fontweight=\"bold\")\n",
    "    ax.set_ylabel(\"Correlation spikes-dispersion\", fontsize=label_size, fontweight=\"bold\")\n",
    "    ax.tick_params(labelsize=ticks_size)\n",
    "\n",
    "    ax.grid(b=True, which='major', color='#d8dcd6', linewidth=1.0)\n",
    "    ax.grid(b=True, which='minor', color='#d8dcd6', linewidth=0.5)\n",
    "    \n",
    "    ax.set_xticks(list_positions)\n",
    "\n",
    "    leg = ax.legend(loc='best', fancybox=True, ncol=1, frameon='True',fontsize=legend_size)\n",
    "\n",
    "fig.savefig(plots_prefix+\"fixed_positions-corr_spikes_dispersion.pdf\")\n",
    "plt.close()"
   ]
  },
  {
   "cell_type": "code",
   "execution_count": null,
   "metadata": {},
   "outputs": [],
   "source": []
  },
  {
   "cell_type": "code",
   "execution_count": null,
   "metadata": {},
   "outputs": [],
   "source": []
  },
  {
   "cell_type": "markdown",
   "metadata": {},
   "source": [
    "### Correlation with fixed v_increment (ONLY FOR ZOOM IN 4 POS)"
   ]
  },
  {
   "cell_type": "code",
   "execution_count": null,
   "metadata": {},
   "outputs": [],
   "source": [
    "list_v_increments = df_merge.v_increment.unique().tolist()[:-1]"
   ]
  },
  {
   "cell_type": "code",
   "execution_count": null,
   "metadata": {},
   "outputs": [],
   "source": [
    "df_corr_fixed_increments = pd.DataFrame(columns=[\"attack\", \"v_increment\", \"corr_steps_spikes\", \"corr_steps_dispersion\", \"corr_spikes_dispersion\"])\n",
    "\n",
    "for v_increment in list_v_increments:\n",
    "    temp_corr = df_merge[(df_merge.v_increment == v_increment)].corr()\n",
    "    \n",
    "    attack = df_merge[(df_merge.v_increment == v_increment)].attack.unique()[0]\n",
    "    corr_steps_spikes = temp_corr[\"n_steps\"][\"number_spikes\"]\n",
    "    corr_steps_dispersion = temp_corr[\"n_steps\"][\"dispersion\"]\n",
    "    corr_spikes_dispersion = temp_corr[\"number_spikes\"][\"dispersion\"]\n",
    "\n",
    "    df_corr_fixed_increments = df_corr_fixed_increments.append({\n",
    "                            \"attack\": attack,\n",
    "                            \"v_increment\": v_increment,  \n",
    "                            \"corr_steps_spikes\": corr_steps_spikes, \n",
    "                            \"corr_steps_dispersion\": corr_steps_dispersion, \n",
    "                            \"corr_spikes_dispersion\": corr_spikes_dispersion\n",
    "                           }, ignore_index=True)\n",
    "    \n",
    "    \n",
    "df_corr_fixed_increments = df_corr_fixed_increments.round(4)"
   ]
  },
  {
   "cell_type": "code",
   "execution_count": null,
   "metadata": {},
   "outputs": [],
   "source": [
    "df_corr_fixed_increments.sort_values(by=['v_increment'])"
   ]
  },
  {
   "cell_type": "markdown",
   "metadata": {},
   "source": [
    "#### Correlation n_steps and number_spikes"
   ]
  },
  {
   "cell_type": "code",
   "execution_count": null,
   "metadata": {},
   "outputs": [],
   "source": [
    "plots_prefix = \"correlation/\"+mode+\"/\"\n",
    "\n",
    "if not os.path.exists(plots_prefix):\n",
    "    os.makedirs(plots_prefix)"
   ]
  },
  {
   "cell_type": "code",
   "execution_count": null,
   "metadata": {},
   "outputs": [],
   "source": [
    "###################### Correlation n_steps and number_spikes ######################\n",
    "attack = \"FLO\"\n",
    "\n",
    "label_size = 45\n",
    "ticks_size = 35\n",
    "legend_size = 35\n",
    "line_size = 15\n",
    "\n",
    "fig, ax = plt.subplots(figsize=(40,20))\n",
    "\n",
    "if attack in [\"FLO\", \"JAM\"]:\n",
    "    sns.lineplot(x=\"v_increment\", y=\"corr_steps_spikes\", data=df_corr_fixed_increments, linewidth=line_size, ax=ax) # ci=None \n",
    "\n",
    "    ax.set_xlabel(\"Voltage increment\", fontsize=label_size, fontweight=\"bold\")\n",
    "    ax.set_ylabel(\"Correlation steps-spikes\", fontsize=label_size, fontweight=\"bold\")\n",
    "    ax.tick_params(labelsize=ticks_size)\n",
    "\n",
    "    ax.grid(b=True, which='major', color='#d8dcd6', linewidth=1.0)\n",
    "    ax.grid(b=True, which='minor', color='#d8dcd6', linewidth=0.5)\n",
    "    \n",
    "    ax.set_xticks(list_v_increments)\n",
    "\n",
    "    leg = ax.legend(loc='best', fancybox=True, ncol=1, frameon='True',fontsize=legend_size)\n",
    "\n",
    "fig.savefig(plots_prefix+\"fixed_v_increment-corr_steps_spikes.pdf\")\n",
    "plt.close()"
   ]
  },
  {
   "cell_type": "markdown",
   "metadata": {},
   "source": [
    "#### Correlation n_steps and dispersion"
   ]
  },
  {
   "cell_type": "code",
   "execution_count": null,
   "metadata": {},
   "outputs": [],
   "source": [
    "###################### Correlation n_steps and number_spikes ######################\n",
    "attack = \"FLO\"\n",
    "\n",
    "label_size = 45\n",
    "ticks_size = 35\n",
    "legend_size = 35\n",
    "line_size = 15\n",
    "\n",
    "fig, ax = plt.subplots(figsize=(40,20))\n",
    "\n",
    "if attack in [\"FLO\", \"JAM\"]:\n",
    "    sns.lineplot(x=\"v_increment\", y=\"corr_steps_dispersion\", data=df_corr_fixed_increments, linewidth=line_size, ax=ax) # ci=None \n",
    "\n",
    "    ax.set_xlabel(\"Voltage increment\", fontsize=label_size, fontweight=\"bold\")\n",
    "    ax.set_ylabel(\"Correlation steps-dispersion\", fontsize=label_size, fontweight=\"bold\")\n",
    "    ax.tick_params(labelsize=ticks_size)\n",
    "\n",
    "    ax.grid(b=True, which='major', color='#d8dcd6', linewidth=1.0)\n",
    "    ax.grid(b=True, which='minor', color='#d8dcd6', linewidth=0.5)\n",
    "    \n",
    "    ax.set_xticks(list_v_increments)\n",
    "\n",
    "    leg = ax.legend(loc='best', fancybox=True, ncol=1, frameon='True',fontsize=legend_size)\n",
    "\n",
    "fig.savefig(plots_prefix+\"fixed_v_increment-corr_steps_dispersion.pdf\")\n",
    "plt.close()"
   ]
  },
  {
   "cell_type": "markdown",
   "metadata": {},
   "source": [
    "#### Correlation number_spikes and dispersion"
   ]
  },
  {
   "cell_type": "code",
   "execution_count": null,
   "metadata": {},
   "outputs": [],
   "source": [
    "###################### Correlation n_steps and number_spikes ######################\n",
    "attack = \"FLO\"\n",
    "\n",
    "label_size = 45\n",
    "ticks_size = 35\n",
    "legend_size = 35\n",
    "line_size = 15\n",
    "\n",
    "fig, ax = plt.subplots(figsize=(40,20))\n",
    "\n",
    "if attack in [\"FLO\", \"JAM\"]:\n",
    "    sns.lineplot(x=\"v_increment\", y=\"corr_spikes_dispersion\", data=df_corr_fixed_increments, linewidth=line_size, ax=ax) # ci=None \n",
    "\n",
    "    ax.set_xlabel(\"Voltage increment\", fontsize=label_size, fontweight=\"bold\")\n",
    "    ax.set_ylabel(\"Correlation spikes-dispersion\", fontsize=label_size, fontweight=\"bold\")\n",
    "    ax.tick_params(labelsize=ticks_size)\n",
    "\n",
    "    ax.grid(b=True, which='major', color='#d8dcd6', linewidth=1.0)\n",
    "    ax.grid(b=True, which='minor', color='#d8dcd6', linewidth=0.5)\n",
    "    \n",
    "    ax.set_xticks(list_v_increments)\n",
    "\n",
    "    leg = ax.legend(loc='best', fancybox=True, ncol=1, frameon='True',fontsize=legend_size)\n",
    "\n",
    "fig.savefig(plots_prefix+\"fixed_v_increment-corr_spikes_dispersion.pdf\")\n",
    "plt.close()"
   ]
  },
  {
   "cell_type": "code",
   "execution_count": null,
   "metadata": {},
   "outputs": [],
   "source": []
  },
  {
   "cell_type": "code",
   "execution_count": null,
   "metadata": {},
   "outputs": [],
   "source": []
  },
  {
   "cell_type": "code",
   "execution_count": null,
   "metadata": {},
   "outputs": [],
   "source": []
  },
  {
   "cell_type": "code",
   "execution_count": null,
   "metadata": {},
   "outputs": [],
   "source": [
    "df_corr_results = pd.DataFrame(columns=[\"attack\", \"n_neurons\", \"position_attack\", \"corr_steps_spikes\", \"corr_steps_dispersion\", \"corr_spikes_dispersion\"])"
   ]
  },
  {
   "cell_type": "code",
   "execution_count": null,
   "metadata": {},
   "outputs": [],
   "source": [
    "list_n_neurons = df_merge.attack_n_neurons.unique().tolist()[:-1]\n",
    "list_positions = df_merge.position_attack.unique().tolist()"
   ]
  },
  {
   "cell_type": "code",
   "execution_count": null,
   "metadata": {},
   "outputs": [],
   "source": [
    "\n",
    "for attack_n_neurons in list_attack_n_neurons:\n",
    "    for position_attack in list_positions:\n",
    "        temp_corr = df_merge[(df_merge.n_neurons == n_neurons) & (df_merge.position_attack == position_attack)].corr()\n",
    "        \n",
    "        attack = attack_n_neurons.split(\" \")[0]\n",
    "        n_neurons = attack_n_neurons.split(\" \")[1]\n",
    "        corr_steps_spikes = temp_corr[\"n_steps\"][\"number_spikes\"]\n",
    "        corr_steps_dispersion = temp_corr[\"n_steps\"][\"dispersion\"]\n",
    "        corr_spikes_dispersion = temp_corr[\"number_spikes\"][\"dispersion\"]\n",
    "        \n",
    "        df_corr_results = df_corr_results.append({\"attack\": attack,\n",
    "                                \"n_neurons\": n_neurons, \n",
    "                                \"position_attack\": position_attack, \n",
    "                                \"corr_steps_spikes\": corr_steps_spikes, \n",
    "                                \"corr_steps_dispersion\": corr_steps_dispersion, \n",
    "                                \"corr_spikes_dispersion\": corr_spikes_dispersion\n",
    "                               }, ignore_index=True)\n",
    "                               "
   ]
  },
  {
   "cell_type": "code",
   "execution_count": null,
   "metadata": {},
   "outputs": [],
   "source": [
    "df_corr_results[df_corr_results.position_attack == 1]"
   ]
  },
  {
   "cell_type": "code",
   "execution_count": null,
   "metadata": {},
   "outputs": [],
   "source": [
    "list_positions = df_corr_results.position_attack.unique().tolist()\n",
    "\n",
    "if mode == \"all_pos\":\n",
    "    list_n_neurons = ['5', '35', '55', '75', '105']"
   ]
  },
  {
   "cell_type": "code",
   "execution_count": null,
   "metadata": {},
   "outputs": [],
   "source": [
    "###################### Correlation n_steps and number_spikes ######################\n",
    "attack = \"FLO\"\n",
    "\n",
    "label_size = 45\n",
    "ticks_size = 35\n",
    "legend_size = 35\n",
    "line_size = 15\n",
    "\n",
    "fig, ax = plt.subplots(figsize=(40,20))\n",
    "\n",
    "if attack in [\"FLO\", \"JAM\"]:\n",
    "    for n_neurons in list_n_neurons:\n",
    "        sns.lineplot(x=\"position_attack\", y=\"corr_steps_spikes\", data=df_corr_results[df_corr_results.n_neurons == n_neurons], linewidth=line_size, ax=ax, label=str(n_neurons)+\"n\") # ci=None \n",
    "\n",
    "    ax.set_xlabel(\"Position of attack\", fontsize=label_size, fontweight=\"bold\")\n",
    "    ax.set_ylabel(\"Correlation steps-spikes\", fontsize=label_size, fontweight=\"bold\")\n",
    "    ax.tick_params(labelsize=ticks_size)\n",
    "\n",
    "    ax.grid(b=True, which='major', color='#d8dcd6', linewidth=1.0)\n",
    "    ax.grid(b=True, which='minor', color='#d8dcd6', linewidth=0.5)\n",
    "    \n",
    "    ax.set_xticks(list_positions)\n",
    "\n",
    "    leg = ax.legend(loc='best', fancybox=True, ncol=1, frameon='True',fontsize=legend_size)\n",
    "\n",
    "#fig.savefig(plots_prefix_dispersion+\"total_number_spikes.pdf\")\n",
    "#plt.close()"
   ]
  },
  {
   "cell_type": "code",
   "execution_count": null,
   "metadata": {},
   "outputs": [],
   "source": [
    "###################### Correlation n_steps and dispersion ######################\n",
    "attack = \"FLO\"\n",
    "\n",
    "label_size = 45\n",
    "ticks_size = 35\n",
    "legend_size = 35\n",
    "line_size = 15\n",
    "\n",
    "fig, ax = plt.subplots(figsize=(40,20))\n",
    "\n",
    "if attack in [\"FLO\", \"JAM\"]:\n",
    "    for n_neurons in list_n_neurons:\n",
    "        sns.lineplot(x=\"position_attack\", y=\"corr_steps_dispersion\", data=df_corr_results[df_corr_results.n_neurons == n_neurons], linewidth=line_size, ax=ax, label=str(n_neurons)+\"n\") # ci=None \n",
    "\n",
    "    ax.set_xlabel(\"Position of attack\", fontsize=label_size, fontweight=\"bold\")\n",
    "    ax.set_ylabel(\"Correlation steps-dispersion\", fontsize=label_size, fontweight=\"bold\")\n",
    "    ax.tick_params(labelsize=ticks_size)\n",
    "\n",
    "    ax.grid(b=True, which='major', color='#d8dcd6', linewidth=1.0)\n",
    "    ax.grid(b=True, which='minor', color='#d8dcd6', linewidth=0.5)\n",
    "    \n",
    "    ax.set_xticks(list_positions)\n",
    "\n",
    "    leg = ax.legend(loc='best', fancybox=True, ncol=1, frameon='True',fontsize=legend_size)\n",
    "\n",
    "#fig.savefig(plots_prefix_dispersion+\"total_number_spikes.pdf\")\n",
    "#plt.close()"
   ]
  },
  {
   "cell_type": "code",
   "execution_count": null,
   "metadata": {},
   "outputs": [],
   "source": [
    "###################### Correlation number_spikes and dispersion ######################\n",
    "attack = \"FLO\"\n",
    "\n",
    "label_size = 45\n",
    "ticks_size = 35\n",
    "legend_size = 35\n",
    "line_size = 15\n",
    "\n",
    "fig, ax = plt.subplots(figsize=(40,20))\n",
    "\n",
    "if attack in [\"FLO\", \"JAM\"]:\n",
    "    for n_neurons in list_n_neurons:\n",
    "        sns.lineplot(x=\"position_attack\", y=\"corr_spikes_dispersion\", data=df_corr_results[df_corr_results.n_neurons == n_neurons], linewidth=line_size, ax=ax, label=str(n_neurons)+\"n\") # ci=None \n",
    "\n",
    "    ax.set_xlabel(\"Position of attack\", fontsize=label_size, fontweight=\"bold\")\n",
    "    ax.set_ylabel(\"Correlation spikes-dispersion\", fontsize=label_size, fontweight=\"bold\")\n",
    "    ax.tick_params(labelsize=ticks_size)\n",
    "\n",
    "    ax.grid(b=True, which='major', color='#d8dcd6', linewidth=1.0)\n",
    "    ax.grid(b=True, which='minor', color='#d8dcd6', linewidth=0.5)\n",
    "    \n",
    "    ax.set_xticks(list_positions)\n",
    "\n",
    "    leg = ax.legend(loc='best', fancybox=True, ncol=1, frameon='True',fontsize=legend_size)\n",
    "\n",
    "#fig.savefig(plots_prefix_dispersion+\"total_number_spikes.pdf\")\n",
    "#plt.close()"
   ]
  },
  {
   "cell_type": "code",
   "execution_count": null,
   "metadata": {},
   "outputs": [],
   "source": []
  }
 ],
 "metadata": {
  "kernelspec": {
   "display_name": "Python 3 (ipykernel)",
   "language": "python",
   "name": "python3"
  },
  "language_info": {
   "codemirror_mode": {
    "name": "ipython",
    "version": 3
   },
   "file_extension": ".py",
   "mimetype": "text/x-python",
   "name": "python",
   "nbconvert_exporter": "python",
   "pygments_lexer": "ipython3",
   "version": "3.10.4"
  }
 },
 "nbformat": 4,
 "nbformat_minor": 4
}
